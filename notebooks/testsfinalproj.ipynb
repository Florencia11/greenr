{
 "cells": [
  {
   "cell_type": "code",
   "execution_count": 1,
   "metadata": {},
   "outputs": [],
   "source": [
    "import requests\n",
    "from bs4 import BeautifulSoup\n",
    "import pandas as pd\n",
    "from pathlib import Path\n",
    "\n",
    "def get_ingredients_section(section):\n",
    "    \n",
    "    page = requests.get(f'{section}')\n",
    "    soup = BeautifulSoup(page.content, 'html.parser')\n",
    "    ingredient = []\n",
    "    \n",
    "    for a in soup.find_all('a', class_ =\"promo promo__main_course\" ):\n",
    "        npage = requests.get(f'https://www.bbc.co.uk{a[\"href\"]}')\n",
    "        soup = BeautifulSoup(npage.content, 'html.parser')\n",
    "        ingredient = []\n",
    "    \n",
    "        for a in soup.find_all('li', class_ = \"recipe-ingredients__list-item\"):\n",
    "            ingredient.append(a.get_text())\n",
    "        \n",
    "        ingredients.append(ingredient)\n",
    "    ingredients = pd.DataFrame(ingredients)\n",
    "        \n",
    "        #output_file = 'cuisines_mex_ingredients.csv'\n",
    "        #output_dir = Path('/Users/georgesdelrieu/Desktop/Final_project')\n",
    "        \n",
    "    return ingredient"
   ]
  },
  {
   "cell_type": "code",
   "execution_count": 2,
   "metadata": {},
   "outputs": [],
   "source": [
    "def get_ingredients_url(url):\n",
    "    \n",
    "    page = requests.get(f'{url}')\n",
    "    soup = BeautifulSoup(page.content, 'html.parser')\n",
    "    ingredient = []\n",
    "    \n",
    "    for a in soup.find_all('li', class_ = \"recipe-ingredients__list-item\"):\n",
    "        ingredient.append(a.get_text())\n",
    "\n",
    "        \n",
    "    return ingredient"
   ]
  },
  {
   "cell_type": "code",
   "execution_count": 5,
   "metadata": {},
   "outputs": [
    {
     "name": "stdout",
     "output_type": "stream",
     "text": [
      "/Users/georgesdelrieu\n"
     ]
    }
   ],
   "source": [
    "cd"
   ]
  },
  {
   "cell_type": "code",
   "execution_count": 6,
   "metadata": {},
   "outputs": [
    {
     "name": "stdout",
     "output_type": "stream",
     "text": [
      "/Users/georgesdelrieu/code/g-delrieu/greenr/Parser_training/ingredient-phrase-tagger\n"
     ]
    }
   ],
   "source": [
    "cd /Users/georgesdelrieu/code/g-delrieu/greenr/Parser_training/ingredient-phrase-tagger"
   ]
  },
  {
   "cell_type": "code",
   "execution_count": 130,
   "metadata": {},
   "outputs": [],
   "source": [
    "## needs to be run from /Users/georgesdelrieu/code/g-delrieu/greenr/Parser_training/ingredient-phrase-tagger\n",
    "\n",
    "import re\n",
    "import subprocess\n",
    "import json\n",
    "import pandas as pd\n",
    "import numpy as np\n",
    "\n",
    "\n",
    "def url_to_df(url):\n",
    "\n",
    "    recipe = get_ingredients_url(url)\n",
    "\n",
    "    our_punctuation = '!\"#$%&\\'())*+-:;<=>?@[\\\\]^_`{|}~'\n",
    "    \n",
    "    my_list = []\n",
    "    \n",
    "    names = []\n",
    "    units = []\n",
    "    qtys = []\n",
    "\n",
    "    for ingredient in recipe:\n",
    "    \n",
    "        for punctuation in our_punctuation:\n",
    "        # cleaning for common issues \n",
    "            ingredient = ingredient.replace(punctuation, '')\n",
    "            \n",
    "        ingredient = ingredient.replace('can', '')\n",
    "        ingredient = ingredient.replace('package', '')\n",
    "        ingredient = ingredient.replace('container', '')\n",
    "        ingredient = ingredient.replace('eggs eggs', 'eggs')\n",
    "        ingredient = ingredient.replace('⅓', '.33')\n",
    "        ingredient = ingredient.replace('½', '.5')\n",
    "        ingredient = ingredient.replace('¼', '.25')\n",
    "        ingredient = ingredient.replace('¾', '.75')\n",
    "        ingredient = ingredient.replace('tsp', 'teaspoon')\n",
    "        ingredient = ingredient.replace('tbsp', 'tablespoon')\n",
    "\n",
    "        #ingredient = re.sub(\"^.*\\(\", \"\", ingredient)\n",
    "        try:\n",
    "            ingredient = re.match(\"^(.+?),\", ingredient).group(0)\n",
    "        except:\n",
    "            pass\n",
    "        \n",
    "    #running in the model    \n",
    "        my_path = '/Users/georgesdelrieu/code/g-delrieu/greenr/Parser_training/ingredient-phrase-tagger/my_ingredients'\n",
    "        parsed_ingredient = subprocess.check_output(f\"echo {ingredient} | parsing_tools/parse-ingredients.py --model-file parsing_tools/20200825_0846-nyt-ingredients-snapshot-2015-461547e.crfmodel\", shell=True)\n",
    "        parsed_ingredient = json.loads(parsed_ingredient)\n",
    "        \n",
    "        my_list.append(parsed_ingredient)\n",
    "        \n",
    "    #appending to separate lists taking into account edge cases\n",
    "        if 'name' in parsed_ingredient[0].keys():\n",
    "\n",
    "            tmp = parsed_ingredient[0]['name']\n",
    "            useless_quantifiers = ['oz', 'fl', 'ounce']\n",
    "            \n",
    "            try:\n",
    "                names.append(re.search(\"[^\\d]*$\", tmp).group(0))\n",
    "            except:\n",
    "                names.append(tmp)\n",
    "\n",
    "                    \n",
    "            #else: \n",
    "            #    names.append(tmp)\n",
    "        else:\n",
    "            names.append(np.nan)\n",
    "\n",
    "        if 'gram' in parsed_ingredient[0]['input']:\n",
    "            units.append('gram')\n",
    "        elif 'milliliters' in parsed_ingredient[0]['input']:\n",
    "            units.append('ml')\n",
    "        elif 'unit' in parsed_ingredient[0].keys():\n",
    "            units.append(parsed_ingredient[0]['unit'])\n",
    "        else:\n",
    "            units.append('unit')\n",
    "            \n",
    "            \n",
    "        if 'qty' in parsed_ingredient[0].keys():\n",
    "            qtys.append(parsed_ingredient[0]['qty'])\n",
    "        else:\n",
    "            try:\n",
    "                qtys.append(float(parsed_ingredient[0]['input'][:3]))\n",
    "            except:\n",
    "                qtys.append(np.nan)\n",
    "\n",
    "\n",
    "    final_df = pd.DataFrame(list(zip(qtys, units, names)), columns = ['qty', 'unit', 'name'])\n",
    "    final_df = final_df[final_df['name'].notna()]\n",
    "    final_df = final_df[final_df['unit'].notna()]\n",
    "    final_df = final_df[final_df['unit'] != 'teaspoon']\n",
    "        \n",
    "    return final_df, my_list"
   ]
  },
  {
   "cell_type": "code",
   "execution_count": 134,
   "metadata": {},
   "outputs": [
    {
     "name": "stdout",
     "output_type": "stream",
     "text": [
      "MANIFEST.in               \u001b[1m\u001b[36mgreenr\u001b[m\u001b[m/                   \u001b[1m\u001b[36mraw_data\u001b[m\u001b[m/\r\n",
      "Makefile                  \u001b[1m\u001b[36mgreenr.egg-info\u001b[m\u001b[m/          requirements.txt\r\n",
      "README.md                 \u001b[1m\u001b[36mingredient_phrase_tagger\u001b[m\u001b[m/ \u001b[1m\u001b[36mscripts\u001b[m\u001b[m/\r\n",
      "\u001b[1m\u001b[36mbuild\u001b[m\u001b[m/                    \u001b[1m\u001b[36mnotebooks\u001b[m\u001b[m/                setup.py\r\n",
      "\u001b[1m\u001b[36mdist\u001b[m\u001b[m/                     \u001b[1m\u001b[36mparsing_tools\u001b[m\u001b[m/            \u001b[1m\u001b[36mtests\u001b[m\u001b[m/\r\n"
     ]
    }
   ],
   "source": [
    "ls"
   ]
  },
  {
   "cell_type": "code",
   "execution_count": 135,
   "metadata": {},
   "outputs": [
    {
     "data": {
      "text/plain": [
       "b'[\\n  {\\n    \"display\": \"<span class=\\'qty\\'>2</span><span class=\\'unit\\'>cups</span><span class=\\'name\\'>water</span>\", \\n    \"input\": \"2 cups water\", \\n    \"name\": \"water\", \\n    \"qty\": \"2\", \\n    \"unit\": \"cup\"\\n  }\\n]\\n'"
      ]
     },
     "execution_count": 135,
     "metadata": {},
     "output_type": "execute_result"
    }
   ],
   "source": [
    "subprocess.check_output(f\"echo 2 cups water | parsing_tools/parse-ingredients.py --model-file parsing_tools/20200825_0846-nyt-ingredients-snapshot-2015-461547e.crfmodel\", shell=True)\n"
   ]
  },
  {
   "cell_type": "code",
   "execution_count": 136,
   "metadata": {},
   "outputs": [
    {
     "name": "stdout",
     "output_type": "stream",
     "text": [
      "CPU times: user 829 ms, sys: 46.5 ms, total: 876 ms\n",
      "Wall time: 1.84 s\n"
     ]
    }
   ],
   "source": [
    "%%time\n",
    "final_df, my_list = url_to_df('https://www.bbc.co.uk/food/recipes/traditional_harissa_72623')"
   ]
  },
  {
   "cell_type": "code",
   "execution_count": 137,
   "metadata": {
    "scrolled": false
   },
   "outputs": [
    {
     "data": {
      "text/html": [
       "<div>\n",
       "<style scoped>\n",
       "    .dataframe tbody tr th:only-of-type {\n",
       "        vertical-align: middle;\n",
       "    }\n",
       "\n",
       "    .dataframe tbody tr th {\n",
       "        vertical-align: top;\n",
       "    }\n",
       "\n",
       "    .dataframe thead th {\n",
       "        text-align: right;\n",
       "    }\n",
       "</style>\n",
       "<table border=\"1\" class=\"dataframe\">\n",
       "  <thead>\n",
       "    <tr style=\"text-align: right;\">\n",
       "      <th></th>\n",
       "      <th>qty</th>\n",
       "      <th>unit</th>\n",
       "      <th>name</th>\n",
       "    </tr>\n",
       "  </thead>\n",
       "  <tbody>\n",
       "    <tr>\n",
       "      <th>0</th>\n",
       "      <td>500</td>\n",
       "      <td>gram</td>\n",
       "      <td>oz red peppers</td>\n",
       "    </tr>\n",
       "    <tr>\n",
       "      <th>1</th>\n",
       "      <td>NaN</td>\n",
       "      <td>unit</td>\n",
       "      <td>red chillies</td>\n",
       "    </tr>\n",
       "    <tr>\n",
       "      <th>2</th>\n",
       "      <td>6</td>\n",
       "      <td>unit</td>\n",
       "      <td>garlic cloves</td>\n",
       "    </tr>\n",
       "    <tr>\n",
       "      <th>3</th>\n",
       "      <td>4</td>\n",
       "      <td>tablespoon</td>\n",
       "      <td>olive oil</td>\n",
       "    </tr>\n",
       "  </tbody>\n",
       "</table>\n",
       "</div>"
      ],
      "text/plain": [
       "   qty        unit             name\n",
       "0  500        gram   oz red peppers\n",
       "1  NaN        unit     red chillies\n",
       "2    6        unit    garlic cloves\n",
       "3    4  tablespoon        olive oil"
      ]
     },
     "execution_count": 137,
     "metadata": {},
     "output_type": "execute_result"
    }
   ],
   "source": [
    "final_df"
   ]
  },
  {
   "cell_type": "code",
   "execution_count": 109,
   "metadata": {},
   "outputs": [
    {
     "data": {
      "text/plain": [
       "[[{'display': \"<span class='name'>500 grams/1lb 2 oz red peppers</span><span class='other'>,</span>\",\n",
       "   'input': '500 grams/1lb 2 oz red peppers ,',\n",
       "   'name': '500 grams/1lb 2 oz red peppers',\n",
       "   'other': ','}],\n",
       " [{'display': \"<span class='name'>1–4 red chillies</span><span class='other'>,</span>\",\n",
       "   'input': '1–4 red chillies ,',\n",
       "   'name': '1–4 red chillies',\n",
       "   'other': ','}],\n",
       " [{'display': \"<span class='qty'>6</span><span class='other'>large</span><span class='name'>garlic cloves</span><span class='other'>,</span>\",\n",
       "   'input': '6 large garlic cloves ,',\n",
       "   'name': 'garlic cloves',\n",
       "   'other': 'large ,',\n",
       "   'qty': '6'}],\n",
       " [{'display': \"<span class='qty'>4</span><span class='unit'>tablespoon</span><span class='name'>olive oil</span><span class='other'>,</span>\",\n",
       "   'input': '4 tablespoon olive oil ,',\n",
       "   'name': 'olive oil',\n",
       "   'other': ',',\n",
       "   'qty': '4',\n",
       "   'unit': 'tablespoon'}],\n",
       " [{'comment': 'ground',\n",
       "   'display': \"<span class='qty'>1</span><span class='unit'>teaspoon</span><span class='comment'>ground</span><span class='name'>cumin</span>\",\n",
       "   'input': '1 teaspoon ground cumin',\n",
       "   'name': 'cumin',\n",
       "   'qty': '1',\n",
       "   'unit': 'teaspoon'}],\n",
       " [{'comment': 'ground',\n",
       "   'display': \"<span class='qty'>1</span><span class='unit'>teaspoon</span><span class='comment'>ground</span><span class='name'>coriander seeds</span>\",\n",
       "   'input': '1 teaspoon ground coriander seeds',\n",
       "   'name': 'coriander seeds',\n",
       "   'qty': '1',\n",
       "   'unit': 'teaspoon'}],\n",
       " [{'display': \"<span class='qty'>1</span><span class='unit'>teaspoon</span><span class='name'>salt</span><span class='other'>,</span>\",\n",
       "   'input': '1 teaspoon salt ,',\n",
       "   'name': 'salt',\n",
       "   'other': ',',\n",
       "   'qty': '1',\n",
       "   'unit': 'teaspoon'}]]"
      ]
     },
     "execution_count": 109,
     "metadata": {},
     "output_type": "execute_result"
    }
   ],
   "source": [
    "my_list"
   ]
  }
 ],
 "metadata": {
  "kernelspec": {
   "display_name": "Python 3",
   "language": "python",
   "name": "python3"
  },
  "language_info": {
   "codemirror_mode": {
    "name": "ipython",
    "version": 3
   },
   "file_extension": ".py",
   "mimetype": "text/x-python",
   "name": "python",
   "nbconvert_exporter": "python",
   "pygments_lexer": "ipython3",
   "version": "3.7.7"
  },
  "toc": {
   "base_numbering": 1,
   "nav_menu": {},
   "number_sections": true,
   "sideBar": true,
   "skip_h1_title": false,
   "title_cell": "Table of Contents",
   "title_sidebar": "Contents",
   "toc_cell": false,
   "toc_position": {},
   "toc_section_display": true,
   "toc_window_display": false
  }
 },
 "nbformat": 4,
 "nbformat_minor": 4
}
