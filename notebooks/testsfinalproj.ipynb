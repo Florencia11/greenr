{
 "cells": [
  {
   "cell_type": "code",
   "execution_count": 20,
   "metadata": {},
   "outputs": [],
   "source": [
    "import requests\n",
    "from bs4 import BeautifulSoup\n",
    "import pandas as pd\n",
    "from pathlib import Path\n",
    "\n",
    "def get_ingredients(section):\n",
    "    \n",
    "    page = requests.get(f'https://www.bbc.co.uk/food/{section}')\n",
    "    soup = BeautifulSoup(page.content, 'html.parser')\n",
    "    ingredients = []\n",
    "\n",
    "    for a in soup.find_all('a', class_ =\"promo promo__main_course\" ):\n",
    "        npage = requests.get(f'https://www.bbc.co.uk{a[\"href\"]}')\n",
    "        soup = BeautifulSoup(npage.content, 'html.parser')\n",
    "        ingredient = []\n",
    "        for a in soup.find_all('li', class_ = \"recipe-ingredients__list-item\"):\n",
    "            ingredient.append(a.get_text())\n",
    "        \n",
    "        ingredients.append(ingredient)\n",
    "        ingredients = pd.DataFrame(ingredients)\n",
    "        \n",
    "        output_file = 'cuisines_mex_ingredients.csv'\n",
    "        output_dir = Path('/Users/georgesdelrieu/Desktop/Final_project')\n",
    "        \n",
    "    return ingredients.to_csv(output_dir / output_file) "
   ]
  },
  {
   "cell_type": "code",
   "execution_count": 24,
   "metadata": {},
   "outputs": [],
   "source": [
    "data = pd.read_csv('cuisines_mex_ingredients.csv')"
   ]
  },
  {
   "cell_type": "code",
   "execution_count": 29,
   "metadata": {},
   "outputs": [
    {
     "data": {
      "text/plain": [
       "Unnamed: 0                                                    0\n",
       "0             50ml/2fl oz fresh orange juice or 1 medium ora...\n",
       "1             50ml/2fl oz fresh lime juice or 1  lime, juice...\n",
       "2                   1 red onion, halved and very thinly sliced \n",
       "3                1 habanero chilli, deseeded and finely chopped\n",
       "4                1½  tsp dried Mexican oregano or 1 tsp oregano\n",
       "5                                                    1 tsp salt\n",
       "6                                        1 tsp ground coriander\n",
       "7                                            1 tsp ground cumin\n",
       "8                                      2 tsp black peppercorns \n",
       "9                                            4 allspice berries\n",
       "10                                         2 tbsp annatto seeds\n",
       "11                                                     4 cloves\n",
       "12                                     5 garlic cloves, crushed\n",
       "13                                        pinch chipotle powder\n",
       "14                                          2 tsp dried oregano\n",
       "15            50ml/2fl oz fresh orange juice or 1 medium ora...\n",
       "16                                    50ml/2fl oz cider vinegar\n",
       "17                                             1 tsp olive oil \n",
       "18            600g/1lb 5oz white fish fillets, such as cod, ...\n",
       "19                                   4 banana leaves (optional)\n",
       "20                                                     sea salt\n",
       "21                            1 small red onion, finely chopped\n",
       "22                             2 green chillies, finely chopped\n",
       "23            1 tbsp finely chopped piquillo or roasted red ...\n",
       "24                                             3 tbsp olive oil\n",
       "25                                           1 lime, juice only\n",
       "26                                               cayenne pepper\n",
       "27                         salt and freshly ground black pepper\n",
       "28            2 large sweet potatoes, peeled and thinly sliced \n",
       "29               2 corn tortillas, cut into 1cm/½in wide strips\n",
       "30                                            2 tbsp olive oil \n",
       "31                              1 yellow pepper, finely chopped\n",
       "32                        2 avocadoes peeled, stoned and sliced\n",
       "33                           100g/3½oz cherry tomatoes, halved \n",
       "34                     70g/3oz feta or goats' cheese, crumbled \n",
       "35                                           1 bunch watercress\n",
       "36                                     1 tbsp chopped coriander\n",
       "37                                          1 tbsp chopped mint\n",
       "Name: 0, dtype: object"
      ]
     },
     "execution_count": 29,
     "metadata": {},
     "output_type": "execute_result"
    }
   ],
   "source": [
    "data.iloc[0]"
   ]
  },
  {
   "cell_type": "code",
   "execution_count": 40,
   "metadata": {
    "scrolled": true
   },
   "outputs": [
    {
     "name": "stdout",
     "output_type": "stream",
     "text": [
      "500g/1lb 2oz beef short ribs (bone in)\n",
      "1 tbsp neutral oil (such as groundnut), for frying\n",
      "250ml/9fl oz light soy sauce \n",
      "100g/3½oz soft light brown sugar \n",
      "2 tbsp sesame oil \n",
      "2 spring onions\n",
      "6 star anise\n",
      "1 tbsp dried chilli flakes\n",
      "1 tbsp cardamom pods\n",
      "1 black cardamom pod\n",
      "3 cloves\n",
      "50g/1¾oz honey\n",
      "100ml/3½fl oz Shoaxing rice wine\n",
      "1 tbsp neutral oil (such as groundnut)\n",
      "1 tsp fast action dried yeast \n",
      "50g/1¾oz plain flour, plus extra for kneading and rolling\n",
      "125g/4½oz strong white bread flour, pasta flour or Chinese high gluten flour \n",
      "2 tsp caster sugar \n",
      "1 tsp baking powder\n",
      "black sesame seeds, to finish\n",
      "125ml/4fl oz distilled white vinegar or white wine vinegar\n",
      "1 tbsp flaked sea salt\n",
      "1 tbsp caster sugar\n",
      "½ tsp crushed pink peppercorns\n",
      "2 medium carrots, peeled and cut into long, thin shreds \n",
      "2 watermelon radishes, cut into long, thin shreds, or 100g/3½oz small radishes, thinly sliced\n",
      "1 tbsp Chinkiang black rice vinegar or rice vinegar\n",
      "1 tbsp light soy sauce \n",
      "1 tbsp chilli oil \n",
      "1 tsp sesame oil \n",
      "1 tsp caster sugar\n",
      "4 mini cucumbers (or 225g/8oz cucumber), cut into 15mm/⅝in chunks (see tip)\n",
      "1 tsp sesame seeds\n",
      "handful fresh coriander, leaves roughly chopped\n",
      "4 tbsp peanuts, crushed in a pestle and mortar or food processor\n",
      "handful micro garlic chives \n"
     ]
    }
   ],
   "source": [
    "url = 'https://www.bbc.co.uk/food/recipes/short_rib_bao_burger_and_90094'\n",
    "page = requests.get(url)\n",
    "soup = BeautifulSoup(page.content, 'html.parser')\n",
    "for a in soup.find_all('li', class_ = \"recipe-ingredients__list-item\"):\n",
    "    print(a.get_text())"
   ]
  },
  {
   "cell_type": "code",
   "execution_count": null,
   "metadata": {},
   "outputs": [],
   "source": [
    "import requests\n",
    "from bs4 import BeautifulSoup\n",
    "\n",
    "\n",
    "URL = f'https://www.bbc.co.uk/food/collections/alternative_burgers'\n",
    "page = requests.get(URL)\n",
    "soup = BeautifulSoup(page.content, 'html.parser')\n",
    "tmp = soup.find_all('a', class_ =\"fixed-recipe-card__title-link\" )\n",
    "\n",
    "for url in tmp:\n",
    "    urls.append(url.get('href'))        \n",
    "tmp2 = soup.find_all('div', class_ =\"fixed-recipe-card__ratings\" )\n",
    "new_obj = []\n",
    "for url in tmp2:\n",
    "    new_obj.append(url.find(class_ = \"stars stars-4-5\"))\n",
    "for rating in new_obj:\n",
    "    if rating != None:\n",
    "        ratings.append(rating.get(\"data-ratingstars\"))\n",
    "    else:\n",
    "        ratings.append('None')"
   ]
  }
 ],
 "metadata": {
  "kernelspec": {
   "display_name": "Python 3",
   "language": "python",
   "name": "python3"
  },
  "language_info": {
   "codemirror_mode": {
    "name": "ipython",
    "version": 3
   },
   "file_extension": ".py",
   "mimetype": "text/x-python",
   "name": "python",
   "nbconvert_exporter": "python",
   "pygments_lexer": "ipython3",
   "version": "3.7.7"
  },
  "toc": {
   "base_numbering": 1,
   "nav_menu": {},
   "number_sections": true,
   "sideBar": true,
   "skip_h1_title": false,
   "title_cell": "Table of Contents",
   "title_sidebar": "Contents",
   "toc_cell": false,
   "toc_position": {},
   "toc_section_display": true,
   "toc_window_display": false
  }
 },
 "nbformat": 4,
 "nbformat_minor": 4
}
